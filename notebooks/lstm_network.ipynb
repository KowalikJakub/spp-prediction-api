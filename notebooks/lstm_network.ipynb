{
 "cells": [
  {
   "cell_type": "markdown",
   "metadata": {},
   "source": [
    "### Model training"
   ]
  },
  {
   "cell_type": "code",
   "execution_count": 1,
   "metadata": {},
   "outputs": [],
   "source": [
    "def create_prediction_dataset(dataset, look_back=1):\n",
    "    return X[:len(X) - look_back], X[look_back:]"
   ]
  },
  {
   "cell_type": "code",
   "execution_count": 2,
   "metadata": {},
   "outputs": [],
   "source": [
    "import pandas as pd\n",
    "\n",
    "data = pd.read_csv(r'data/aapl.csv')"
   ]
  },
  {
   "cell_type": "code",
   "execution_count": 3,
   "metadata": {},
   "outputs": [],
   "source": [
    "import numpy as np\n",
    "from sklearn.model_selection import train_test_split\n",
    "look_back = 1\n",
    "X = data.filterred.values\n",
    "\n",
    "x, y = create_prediction_dataset(X, look_back=look_back)\n",
    "\n",
    "x_train, x_test, y_train, y_test = train_test_split(x, y, \n",
    "                                                    test_size=0.25,\n",
    "                                                    shuffle=False)\n",
    "\n",
    "x_train = np.reshape(x_train, (x_train.shape[0], look_back, 1))\n",
    "x_test = np.reshape(x_test, (x_test.shape[0], look_back, 1))"
   ]
  },
  {
   "cell_type": "code",
   "execution_count": 6,
   "metadata": {},
   "outputs": [],
   "source": [
    "from keras.models import Sequential\n",
    "from keras.layers import LSTM, Dense\n",
    "from keras.losses import mean_absolute_error, mean_squared_error\n",
    "from keras.optimizers import RMSprop\n",
    "model = Sequential(name='draft_network')\n",
    "model.add(LSTM(units=64, return_sequences=True,input_shape=(1, look_back)))\n",
    "model.add(LSTM(units=128,return_sequences=True))\n",
    "model.add(LSTM(units=32))\n",
    "model.add(Dense(units=1))\n",
    "\n",
    "optimizer = RMSprop(lr=10e-3)\n",
    "model.compile(loss=mean_absolute_error,\n",
    "              optimizer=optimizer)"
   ]
  },
  {
   "cell_type": "code",
   "execution_count": 8,
   "metadata": {},
   "outputs": [
    {
     "name": "stdout",
     "output_type": "stream",
     "text": [
      "Train on 754 samples, validate on 189 samples\n",
      "Epoch 1/100\n",
      "754/754 [==============================] - 0s 200us/step - loss: 0.0278 - val_loss: 0.1888\n",
      "Epoch 2/100\n",
      "754/754 [==============================] - 0s 228us/step - loss: 0.0314 - val_loss: 0.1554\n",
      "Epoch 3/100\n",
      "754/754 [==============================] - 0s 185us/step - loss: 0.0268 - val_loss: 0.0418\n",
      "Epoch 4/100\n",
      "754/754 [==============================] - 0s 187us/step - loss: 0.0312 - val_loss: 0.0581\n",
      "Epoch 5/100\n",
      "754/754 [==============================] - 0s 228us/step - loss: 0.0267 - val_loss: 0.1515\n",
      "Epoch 6/100\n",
      "754/754 [==============================] - 0s 209us/step - loss: 0.0282 - val_loss: 0.1099\n",
      "Epoch 7/100\n",
      "754/754 [==============================] - 0s 195us/step - loss: 0.0234 - val_loss: 0.0350\n",
      "Epoch 8/100\n",
      "754/754 [==============================] - 0s 229us/step - loss: 0.0291 - val_loss: 0.0342\n",
      "Epoch 9/100\n",
      "754/754 [==============================] - 0s 210us/step - loss: 0.0253 - val_loss: 0.0689\n",
      "Epoch 10/100\n",
      "754/754 [==============================] - 0s 185us/step - loss: 0.0234 - val_loss: 0.0921\n",
      "Epoch 11/100\n",
      "754/754 [==============================] - 0s 247us/step - loss: 0.0214 - val_loss: 0.0441\n",
      "Epoch 12/100\n",
      "754/754 [==============================] - 0s 214us/step - loss: 0.0220 - val_loss: 0.0428\n",
      "Epoch 13/100\n",
      "754/754 [==============================] - 0s 203us/step - loss: 0.0263 - val_loss: 0.0416\n",
      "Epoch 14/100\n",
      "754/754 [==============================] - 0s 197us/step - loss: 0.0247 - val_loss: 0.0706\n",
      "Epoch 15/100\n",
      "754/754 [==============================] - 0s 220us/step - loss: 0.0221 - val_loss: 0.0691\n",
      "Epoch 16/100\n",
      "754/754 [==============================] - 0s 193us/step - loss: 0.0230 - val_loss: 0.0530\n",
      "Epoch 17/100\n",
      "754/754 [==============================] - 0s 198us/step - loss: 0.0224 - val_loss: 0.0539\n",
      "Epoch 18/100\n",
      "754/754 [==============================] - 0s 245us/step - loss: 0.0259 - val_loss: 0.0472\n",
      "Epoch 19/100\n",
      "754/754 [==============================] - 0s 200us/step - loss: 0.0229 - val_loss: 0.0623\n",
      "Epoch 20/100\n",
      "754/754 [==============================] - 0s 186us/step - loss: 0.0215 - val_loss: 0.1332\n",
      "Epoch 21/100\n",
      "754/754 [==============================] - 0s 240us/step - loss: 0.0199 - val_loss: 0.1366\n",
      "Epoch 22/100\n",
      "754/754 [==============================] - 0s 190us/step - loss: 0.0225 - val_loss: 0.0788\n",
      "Epoch 23/100\n",
      "754/754 [==============================] - 0s 185us/step - loss: 0.0221 - val_loss: 0.0435\n",
      "Epoch 24/100\n",
      "754/754 [==============================] - 0s 236us/step - loss: 0.0242 - val_loss: 0.0713\n",
      "Epoch 25/100\n",
      "754/754 [==============================] - 0s 193us/step - loss: 0.0216 - val_loss: 0.0444\n",
      "Epoch 26/100\n",
      "754/754 [==============================] - 0s 188us/step - loss: 0.0254 - val_loss: 0.0531\n",
      "Epoch 27/100\n",
      "754/754 [==============================] - 0s 216us/step - loss: 0.0218 - val_loss: 0.0678\n",
      "Epoch 28/100\n",
      "754/754 [==============================] - 0s 193us/step - loss: 0.0191 - val_loss: 0.0584\n",
      "Epoch 29/100\n",
      "754/754 [==============================] - 0s 186us/step - loss: 0.0255 - val_loss: 0.0402\n",
      "Epoch 30/100\n",
      "754/754 [==============================] - 0s 191us/step - loss: 0.0233 - val_loss: 0.0434\n",
      "Epoch 31/100\n",
      "754/754 [==============================] - 0s 242us/step - loss: 0.0229 - val_loss: 0.0497\n",
      "Epoch 32/100\n",
      "754/754 [==============================] - 0s 212us/step - loss: 0.0232 - val_loss: 0.0349\n",
      "Epoch 33/100\n",
      "754/754 [==============================] - 0s 183us/step - loss: 0.0218 - val_loss: 0.0551\n",
      "Epoch 34/100\n",
      "754/754 [==============================] - 0s 237us/step - loss: 0.0229 - val_loss: 0.0412\n",
      "Epoch 35/100\n",
      "754/754 [==============================] - 0s 193us/step - loss: 0.0249 - val_loss: 0.0432\n",
      "Epoch 36/100\n",
      "754/754 [==============================] - 0s 193us/step - loss: 0.0243 - val_loss: 0.0409\n",
      "Epoch 37/100\n",
      "754/754 [==============================] - 0s 232us/step - loss: 0.0207 - val_loss: 0.0424\n",
      "Epoch 38/100\n",
      "754/754 [==============================] - 0s 204us/step - loss: 0.0233 - val_loss: 0.1169\n",
      "Epoch 39/100\n",
      "754/754 [==============================] - 0s 198us/step - loss: 0.0188 - val_loss: 0.0641\n",
      "Epoch 40/100\n",
      "754/754 [==============================] - 0s 256us/step - loss: 0.0222 - val_loss: 0.0999\n",
      "Epoch 41/100\n",
      "754/754 [==============================] - 0s 195us/step - loss: 0.0194 - val_loss: 0.0941\n",
      "Epoch 42/100\n",
      "754/754 [==============================] - 0s 190us/step - loss: 0.0199 - val_loss: 0.0935\n",
      "Epoch 43/100\n",
      "754/754 [==============================] - 0s 249us/step - loss: 0.0221 - val_loss: 0.0451\n",
      "Epoch 44/100\n",
      "754/754 [==============================] - 0s 202us/step - loss: 0.0213 - val_loss: 0.0413\n",
      "Epoch 45/100\n",
      "754/754 [==============================] - 0s 205us/step - loss: 0.0217 - val_loss: 0.0395\n",
      "Epoch 46/100\n",
      "754/754 [==============================] - 0s 247us/step - loss: 0.0206 - val_loss: 0.0508\n",
      "Epoch 47/100\n",
      "754/754 [==============================] - 0s 189us/step - loss: 0.0213 - val_loss: 0.0669\n",
      "Epoch 48/100\n",
      "754/754 [==============================] - 0s 198us/step - loss: 0.0204 - val_loss: 0.0619\n",
      "Epoch 49/100\n",
      "754/754 [==============================] - 0s 230us/step - loss: 0.0202 - val_loss: 0.0657\n",
      "Epoch 50/100\n",
      "754/754 [==============================] - 0s 200us/step - loss: 0.0242 - val_loss: 0.0405\n",
      "Epoch 51/100\n",
      "754/754 [==============================] - 0s 192us/step - loss: 0.0223 - val_loss: 0.0414\n",
      "Epoch 52/100\n",
      "754/754 [==============================] - 0s 226us/step - loss: 0.0213 - val_loss: 0.1183\n",
      "Epoch 53/100\n",
      "754/754 [==============================] - 0s 204us/step - loss: 0.0159 - val_loss: 0.1021\n",
      "Epoch 54/100\n",
      "754/754 [==============================] - 0s 179us/step - loss: 0.0192 - val_loss: 0.1068\n",
      "Epoch 55/100\n",
      "754/754 [==============================] - 0s 185us/step - loss: 0.0206 - val_loss: 0.0446\n",
      "Epoch 56/100\n",
      "754/754 [==============================] - 0s 222us/step - loss: 0.0221 - val_loss: 0.0400\n",
      "Epoch 57/100\n",
      "754/754 [==============================] - 0s 195us/step - loss: 0.0210 - val_loss: 0.0651\n",
      "Epoch 58/100\n",
      "754/754 [==============================] - 0s 275us/step - loss: 0.0181 - val_loss: 0.0644\n",
      "Epoch 59/100\n",
      "754/754 [==============================] - 0s 343us/step - loss: 0.0224 - val_loss: 0.0493\n",
      "Epoch 60/100\n",
      "754/754 [==============================] - 0s 299us/step - loss: 0.0205 - val_loss: 0.0627\n",
      "Epoch 61/100\n",
      "754/754 [==============================] - 0s 317us/step - loss: 0.0205 - val_loss: 0.0398\n",
      "Epoch 62/100\n",
      "754/754 [==============================] - 0s 211us/step - loss: 0.0213 - val_loss: 0.0507\n",
      "Epoch 63/100\n",
      "754/754 [==============================] - 0s 241us/step - loss: 0.0204 - val_loss: 0.0699\n",
      "Epoch 64/100\n",
      "754/754 [==============================] - 0s 222us/step - loss: 0.0189 - val_loss: 0.0384\n",
      "Epoch 65/100\n",
      "754/754 [==============================] - 0s 198us/step - loss: 0.0219 - val_loss: 0.0375\n",
      "Epoch 66/100\n",
      "754/754 [==============================] - 0s 236us/step - loss: 0.0210 - val_loss: 0.0576\n",
      "Epoch 67/100\n",
      "754/754 [==============================] - 0s 200us/step - loss: 0.0185 - val_loss: 0.0392\n",
      "Epoch 68/100\n",
      "754/754 [==============================] - 0s 210us/step - loss: 0.0217 - val_loss: 0.0432\n",
      "Epoch 69/100\n",
      "754/754 [==============================] - 0s 261us/step - loss: 0.0204 - val_loss: 0.0509\n",
      "Epoch 70/100\n",
      "754/754 [==============================] - 0s 197us/step - loss: 0.0188 - val_loss: 0.0377\n",
      "Epoch 71/100\n",
      "754/754 [==============================] - 0s 208us/step - loss: 0.0219 - val_loss: 0.0393\n",
      "Epoch 72/100\n",
      "754/754 [==============================] - 0s 256us/step - loss: 0.0201 - val_loss: 0.0470\n",
      "Epoch 73/100\n",
      "754/754 [==============================] - 0s 191us/step - loss: 0.0185 - val_loss: 0.0380\n",
      "Epoch 74/100\n",
      "754/754 [==============================] - 0s 201us/step - loss: 0.0195 - val_loss: 0.0346\n",
      "Epoch 75/100\n",
      "754/754 [==============================] - 0s 264us/step - loss: 0.0188 - val_loss: 0.0420\n",
      "Epoch 76/100\n",
      "754/754 [==============================] - 0s 202us/step - loss: 0.0210 - val_loss: 0.0310\n",
      "Epoch 77/100\n",
      "754/754 [==============================] - 0s 189us/step - loss: 0.0185 - val_loss: 0.0467\n",
      "Epoch 78/100\n",
      "754/754 [==============================] - 0s 240us/step - loss: 0.0205 - val_loss: 0.0270\n",
      "Epoch 79/100\n"
     ]
    },
    {
     "name": "stdout",
     "output_type": "stream",
     "text": [
      "754/754 [==============================] - 0s 234us/step - loss: 0.0186 - val_loss: 0.0258\n",
      "Epoch 80/100\n",
      "754/754 [==============================] - 0s 189us/step - loss: 0.0188 - val_loss: 0.1085\n",
      "Epoch 81/100\n",
      "754/754 [==============================] - 0s 238us/step - loss: 0.0182 - val_loss: 0.0411\n",
      "Epoch 82/100\n",
      "754/754 [==============================] - 0s 206us/step - loss: 0.0199 - val_loss: 0.1006\n",
      "Epoch 83/100\n",
      "754/754 [==============================] - 0s 195us/step - loss: 0.0171 - val_loss: 0.0354\n",
      "Epoch 84/100\n",
      "754/754 [==============================] - 0s 200us/step - loss: 0.0195 - val_loss: 0.0462\n",
      "Epoch 85/100\n",
      "754/754 [==============================] - 0s 215us/step - loss: 0.0194 - val_loss: 0.1041\n",
      "Epoch 86/100\n",
      "754/754 [==============================] - 0s 193us/step - loss: 0.0179 - val_loss: 0.0559\n",
      "Epoch 87/100\n",
      "754/754 [==============================] - 0s 206us/step - loss: 0.0171 - val_loss: 0.0533\n",
      "Epoch 88/100\n",
      "754/754 [==============================] - 0s 236us/step - loss: 0.0189 - val_loss: 0.0482\n",
      "Epoch 89/100\n",
      "754/754 [==============================] - 0s 181us/step - loss: 0.0176 - val_loss: 0.0544\n",
      "Epoch 90/100\n",
      "754/754 [==============================] - 0s 187us/step - loss: 0.0183 - val_loss: 0.0383\n",
      "Epoch 91/100\n",
      "754/754 [==============================] - 0s 403us/step - loss: 0.0193 - val_loss: 0.0979\n",
      "Epoch 92/100\n",
      "754/754 [==============================] - 0s 251us/step - loss: 0.0150 - val_loss: 0.0431\n",
      "Epoch 93/100\n",
      "754/754 [==============================] - 0s 264us/step - loss: 0.0195 - val_loss: 0.0320\n",
      "Epoch 94/100\n",
      "754/754 [==============================] - 0s 191us/step - loss: 0.0182 - val_loss: 0.0377\n",
      "Epoch 95/100\n",
      "754/754 [==============================] - 0s 192us/step - loss: 0.0186 - val_loss: 0.0961\n",
      "Epoch 96/100\n",
      "754/754 [==============================] - 0s 249us/step - loss: 0.0154 - val_loss: 0.0588\n",
      "Epoch 97/100\n",
      "754/754 [==============================] - 0s 189us/step - loss: 0.0196 - val_loss: 0.0330\n",
      "Epoch 98/100\n",
      "754/754 [==============================] - 0s 190us/step - loss: 0.0173 - val_loss: 0.0881\n",
      "Epoch 99/100\n",
      "754/754 [==============================] - 0s 230us/step - loss: 0.0160 - val_loss: 0.0590\n",
      "Epoch 100/100\n",
      "754/754 [==============================] - 0s 187us/step - loss: 0.0165 - val_loss: 0.0793\n"
     ]
    },
    {
     "data": {
      "text/plain": [
       "<keras.callbacks.History at 0x29da39fb6d8>"
      ]
     },
     "execution_count": 8,
     "metadata": {},
     "output_type": "execute_result"
    }
   ],
   "source": [
    "model.fit(x_train, \n",
    "          y_train, \n",
    "          epochs=100,\n",
    "          verbose=1,\n",
    "          validation_split=0.2,\n",
    "          shuffle=False)"
   ]
  },
  {
   "cell_type": "code",
   "execution_count": 13,
   "metadata": {},
   "outputs": [
    {
     "data": {
      "text/plain": [
       "<matplotlib.axes._subplots.AxesSubplot at 0x29da96a5160>"
      ]
     },
     "execution_count": 13,
     "metadata": {},
     "output_type": "execute_result"
    },
    {
     "data": {
      "image/png": "[encoded data removed]",
      "text/plain": [
       "<Figure size 432x288 with 1 Axes>"
      ]
     },
     "metadata": {
      "needs_background": "light"
     },
     "output_type": "display_data"
    }
   ],
   "source": [
    "import seaborn as sns\n",
    "sns.residplot(x=y_test, y=y_pred)"
   ]
  },
  {
   "cell_type": "code",
   "execution_count": 18,
   "metadata": {},
   "outputs": [],
   "source": [
    "model.save('models/aapl-1.h5')"
   ]
  },
  {
   "cell_type": "code",
   "execution_count": 4,
   "metadata": {},
   "outputs": [
    {
     "data": {
      "text/plain": [
       "(315, 1, 1)"
      ]
     },
     "execution_count": 4,
     "metadata": {},
     "output_type": "execute_result"
    }
   ],
   "source": [
    "x_test.shape"
   ]
  },
  {
   "cell_type": "code",
   "execution_count": 12,
   "metadata": {},
   "outputs": [
    {
     "data": {
      "text/plain": [
       "1"
      ]
     },
     "execution_count": 12,
     "metadata": {},
     "output_type": "execute_result"
    }
   ],
   "source": [
    "np.array([1]).reshape((1,1,1)).flatten()[0]"
   ]
  },
  {
   "cell_type": "code",
   "execution_count": null,
   "metadata": {},
   "outputs": [],
   "source": []
  }
 ],
 "metadata": {
  "kernelspec": {
   "display_name": "Python 3",
   "language": "python",
   "name": "python3"
  },
  "language_info": {
   "codemirror_mode": {
    "name": "ipython",
    "version": 3
   },
   "file_extension": ".py",
   "mimetype": "text/x-python",
   "name": "python",
   "nbconvert_exporter": "python",
   "pygments_lexer": "ipython3",
   "version": "3.7.3"
  }
 },
 "nbformat": 4,
 "nbformat_minor": 2
}
